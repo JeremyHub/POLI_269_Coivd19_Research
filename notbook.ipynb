{
 "cells": [
  {
   "cell_type": "code",
   "execution_count": 1,
   "metadata": {},
   "outputs": [],
   "source": [
    "import pandas as pd\n",
    "import numpy as np\n",
    "\n",
    "data_file_name = 'data.csv'\n",
    "labels_file_name = 'what_answer_codes_mean.csv'\n",
    "questions_file_name = 'what_questsions_are.csv'\n",
    "\n",
    "data = pd.read_csv(data_file_name)\n",
    "labels = pd.read_csv(labels_file_name)\n",
    "questions = pd.read_csv(questions_file_name)"
   ]
  },
  {
   "cell_type": "code",
   "execution_count": 2,
   "metadata": {},
   "outputs": [],
   "source": [
    "# remove data where country is Nan\n",
    "data = data[data['Residency'] != 'Nan']\n",
    "data = data.dropna()\n",
    "data = data[data['var'] == data['var'].astype(str)]\n",
    "\n",
    "# remove data in what_questions_are where \"question\" is not a string\n",
    "questions = questions[questions['question'] == questions['question'].astype(str)]\n",
    "# get and remove the question data where [var] is NA\n",
    "group_header_statements = questions[questions['row_id'] == 0]\n",
    "questions = questions[questions['row_id'] != 0]\n",
    "\n",
    "# get unique countries\n",
    "countries = data['Residency'].unique()\n",
    "# get unique questions\n",
    "unique_questions = data['var'].unique()"
   ]
  },
  {
   "cell_type": "code",
   "execution_count": 3,
   "metadata": {},
   "outputs": [],
   "source": [
    "# create new csv file\n",
    "columns = np.insert(unique_questions,0,\"rowid\")\n",
    "new_data = pd.DataFrame(columns=columns)\n"
   ]
  },
  {
   "cell_type": "code",
   "execution_count": 4,
   "metadata": {},
   "outputs": [],
   "source": [
    "# for each entry in data, add it to the new csv file\n",
    "person_dict = {}\n",
    "for index, row in data.iterrows():\n",
    "    # add the row to the new csv file\n",
    "    person_dict[row['rowid']] = person_dict.get(row['rowid'], {})\n",
    "    person_dict[row['rowid']][row['var']] = row['code']"
   ]
  },
  {
   "cell_type": "code",
   "execution_count": 5,
   "metadata": {},
   "outputs": [],
   "source": [
    "for key in person_dict:\n",
    "    new_data.loc[len(new_data.index)] = person_dict[key]"
   ]
  },
  {
   "cell_type": "code",
   "execution_count": 6,
   "metadata": {},
   "outputs": [],
   "source": [
    "# save the new csv file\n",
    "new_data.to_csv('person_dat.csv', index=False)"
   ]
  },
  {
   "cell_type": "code",
   "execution_count": 9,
   "metadata": {},
   "outputs": [],
   "source": [
    "country_dict = {}\n",
    "\n",
    "for index, row in data.iterrows():\n",
    "    country_dict[row['Residency']] = country_dict.get(row['Residency'], {})\n",
    "    country_dict[row['Residency']][row['var']] = country_dict[row['Residency']].get(row['var'], [])\n",
    "    country_dict[row['Residency']]['DemGen'] = country_dict[row['Residency']].get('DemGen', [])\n",
    "    country_dict[row['Residency']]['quota_age'] = country_dict[row['Residency']].get('quota_age', [])\n",
    "    country_dict[row['Residency']][row['var']].append(row['code'])\n",
    "    country_dict[row['Residency']]['DemGen'].append(row['DemGen'])\n",
    "    country_dict[row['Residency']]['quota_age'].append(row['quota_age'])\n",
    "    country_dict[row['Residency']]['EndDate'] = country_dict[row['Residency']].get('EndDate', [])\n",
    "    country_dict[row['Residency']]['EndDate'].append(row['EndDate'][0:10] + ' 00:00:00')"
   ]
  },
  {
   "cell_type": "code",
   "execution_count": 28,
   "metadata": {},
   "outputs": [
    {
     "name": "stdout",
     "output_type": "stream",
     "text": [
      "2020-03-22\n",
      "2020-04-03\n",
      "2020-03-19\n",
      "2020-03-22\n",
      "2020-03-23\n",
      "2020-03-22\n",
      "2020-03-22\n",
      "2020-03-28\n",
      "2020-04-10\n",
      "2020-04-09\n",
      "2020-04-09\n"
     ]
    }
   ],
   "source": [
    "for key in country_dict.keys():\n",
    "    for key2 in country_dict[key].keys():\n",
    "        if key2 == 'EndDate':\n",
    "            dates = country_dict[key][key2]\n",
    "            mean = (np.array(dates, dtype='datetime64[s]')\n",
    "            .view('i8')\n",
    "            .mean()\n",
    "            .astype('datetime64[s]'))\n",
    "            mean = str(mean)[0:10]\n",
    "            country_dict[key][key2] = mean\n",
    "            print(mean)"
   ]
  },
  {
   "cell_type": "code",
   "execution_count": 30,
   "metadata": {},
   "outputs": [],
   "source": [
    "df = pd.DataFrame.from_dict(country_dict, orient='index')\n",
    "# df.to_json('data_with_dates.json')"
   ]
  },
  {
   "cell_type": "code",
   "execution_count": null,
   "metadata": {},
   "outputs": [],
   "source": [
    "df = pd.read_json('data.json')\n",
    "# print(df)\n",
    "# print column names\n",
    "print(df['GenSocTrust'])"
   ]
  },
  {
   "cell_type": "code",
   "execution_count": 8,
   "metadata": {},
   "outputs": [
    {
     "name": "stdout",
     "output_type": "stream",
     "text": [
      "                  Name Code\n",
      "0          Afghanistan   AF\n",
      "1        Åland Islands   AX\n",
      "2              Albania   AL\n",
      "3              Algeria   DZ\n",
      "4       American Samoa   AS\n",
      "..                 ...  ...\n",
      "244  Wallis and Futuna   WF\n",
      "245     Western Sahara   EH\n",
      "246              Yemen   YE\n",
      "247             Zambia   ZM\n",
      "248           Zimbabwe   ZW\n",
      "\n",
      "[249 rows x 2 columns]\n"
     ]
    }
   ],
   "source": [
    "names = pd.read_csv('country_code_data.csv')\n",
    "print(names)"
   ]
  },
  {
   "cell_type": "code",
   "execution_count": null,
   "metadata": {},
   "outputs": [],
   "source": [
    "country_dict2 = {}\n",
    "country_names = {\n",
    "    'IT': 'Italy',\n",
    "    'UK': 'United Kingdom',\n",
    "    'US': 'United States',\n",
    "    'AU': 'Australia',\n",
    "    'DE': 'Germany',\n",
    "    'ES': 'Spain',\n",
    "    'MX': 'Mexico',\n",
    "    'SE': 'Sweden',\n",
    "    'JP': 'Japan',\n",
    "    'KR': 'South Korea',\n",
    "    'CN': 'China'\n",
    "}\n",
    "for key in country_dict.keys():\n",
    "    name = country_names[key]\n",
    "    country_dict2[name] = country_dict2.get(name, {})\n",
    "    for key2 in country_dict[key].keys():\n",
    "        try:\n",
    "            values = country_dict[key][key2]\n",
    "            new_values = []\n",
    "            for value in values:\n",
    "                if type(value) == str:\n",
    "                    new_value = value.split(\",\")\n",
    "                    new_values.extend(new_value)\n",
    "            values = [int(i) for i in values]\n",
    "            mean = np.mean(values)\n",
    "            country_dict2[name] = country_dict2.get(name, {})\n",
    "            country_dict2[name][key2] = mean\n",
    "        except:\n",
    "            country_dict2[name] = country_dict2.get(name, {})\n",
    "            country_dict2[name][key2] = country_dict[key][key2]\n",
    "\n",
    "print(country_dict2)"
   ]
  },
  {
   "cell_type": "code",
   "execution_count": null,
   "metadata": {},
   "outputs": [],
   "source": [
    "stringency_data = pd.read_csv('covid-stringency-index.csv')\n",
    "for key in country_dict2.keys():\n",
    "    for index, row in stringency_data.iterrows():\n",
    "        if row['Entity'] == key and row['Day'] == country_dict2[key]['EndDate']:\n",
    "            country_dict2[key]['stringnecy'] = row['stringency_index']\n",
    "            break\n",
    "print(country_dict2)"
   ]
  },
  {
   "cell_type": "code",
   "execution_count": 41,
   "metadata": {},
   "outputs": [],
   "source": [
    "df = pd.DataFrame.from_dict(country_dict2, orient='index')\n",
    "df.to_json('mean_data_per_country.json')"
   ]
  }
 ],
 "metadata": {
  "interpreter": {
   "hash": "63fd5069d213b44bf678585dea6b12cceca9941eaf7f819626cde1f2670de90d"
  },
  "kernelspec": {
   "display_name": "Python 3.9.6 64-bit",
   "language": "python",
   "name": "python3"
  },
  "language_info": {
   "codemirror_mode": {
    "name": "ipython",
    "version": 3
   },
   "file_extension": ".py",
   "mimetype": "text/x-python",
   "name": "python",
   "nbconvert_exporter": "python",
   "pygments_lexer": "ipython3",
   "version": "3.9.6"
  },
  "orig_nbformat": 4
 },
 "nbformat": 4,
 "nbformat_minor": 2
}
