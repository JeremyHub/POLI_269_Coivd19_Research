{
 "cells": [
  {
   "cell_type": "code",
   "execution_count": 2,
   "metadata": {},
   "outputs": [],
   "source": [
    "import pandas as pd\n",
    "import numpy as np\n",
    "\n",
    "data_file_name = 'data.csv'\n",
    "labels_file_name = 'what_answer_codes_mean.csv'\n",
    "questions_file_name = 'what_questsions_are.csv'\n",
    "\n",
    "data = pd.read_csv(data_file_name)\n",
    "labels = pd.read_csv(labels_file_name)\n",
    "questions = pd.read_csv(questions_file_name)"
   ]
  },
  {
   "cell_type": "code",
   "execution_count": 14,
   "metadata": {},
   "outputs": [],
   "source": [
    "# remove data where country is Nan\n",
    "data = data[data['Residency'] != 'Nan']\n",
    "data = data.dropna()\n",
    "data = data[data['var'] == data['var'].astype(str)]\n",
    "\n",
    "# remove data in what_questions_are where \"question\" is not a string\n",
    "questions = questions[questions['question'] == questions['question'].astype(str)]\n",
    "# get and remove the question data where [var] is NA\n",
    "group_header_statements = questions[questions['row_id'] == 0]\n",
    "questions = questions[questions['row_id'] != 0]\n",
    "\n",
    "# get unique countries\n",
    "countries = data['Residency'].unique()\n",
    "# get unique questions\n",
    "unique_questions = data['var'].unique()"
   ]
  },
  {
   "cell_type": "code",
   "execution_count": 15,
   "metadata": {},
   "outputs": [],
   "source": [
    "country_dict = {}\n",
    "\n",
    "for index, row in data.iterrows():\n",
    "    country_dict[row['Residency']] = country_dict.get(row['Residency'], {})\n",
    "    country_dict[row['Residency']][row['var']] = country_dict[row['Residency']].get(row['var'], [])\n",
    "    country_dict[row['Residency']][row['DemGen']] = country_dict[row['Residency']].get(row['DemGen'], [])\n",
    "    country_dict[row['Residency']][row['quota_age']] = country_dict[row['Residency']].get(row['quota_age'], [])\n",
    "    country_dict[row['Residency']][row['var']].append(row['code'])\n",
    "    country_dict[row['Residency']][row['DemGen']].append(row['DemGen'])\n",
    "    country_dict[row['Residency']][row['quota_age']].append(row['quota_age'])"
   ]
  },
  {
   "cell_type": "code",
   "execution_count": null,
   "metadata": {},
   "outputs": [],
   "source": [
    "df = pd.DataFrame.from_dict(country_dict, orient='index')\n",
    "print(df)\n",
    "df.to_json('data.json')"
   ]
  },
  {
   "cell_type": "code",
   "execution_count": 23,
   "metadata": {},
   "outputs": [
    {
     "name": "stdout",
     "output_type": "stream",
     "text": [
      "IT    [1, 7, 3, 4, 5, 3, 5, 1, 2, 3, 4, 5, 4, 2, 4, ...\n",
      "UK    [5, 4, 6, 5, 4, 3, 5, 2, 5, 6, 5, 5, 1, 6, 5, ...\n",
      "US    [6, 2, 4, 1, 3, 4, 2, 3, 5, 4, 5, 1, 5, 4, 4, ...\n",
      "AU    [5, 3, 6, 6, 6, 1, 3, 6, 5, 1, 2, 5, 3, 3, 1, ...\n",
      "DE    [2, 4, 4, 3, 5, 5, 2, 4, 3, 4, 2, 1, 7, 1, 3, ...\n",
      "ES    [2, 2, 6, 5, 6, 1, 2, 5, 5, 1, 1, 4, 6, 2, 2, ...\n",
      "MX    [2, 1, 1, 3, 1, 5, 4, 2, 4, 2, 3, 1, 5, 4, 5, ...\n",
      "SE    [3, 4, 5, 5, 5, 7, 4, 6, 4, 4, 2, 5, 3, 3, 4, ...\n",
      "JP    [2, 4, 5, 6, 5, 4, 2, 3, 1, 5, 5, 3, 1, 4, 6, ...\n",
      "KR    [5, 7, 5, 7, 1, 3, 4, 4, 4, 5, 4, 5, 6, 3, 6, ...\n",
      "CN    [6, 4, 5, 5, 7, 7, 7, 4, 6, 3, 6, 6, 4, 4, 3, ...\n",
      "Name: GenSocTrust, dtype: object\n"
     ]
    }
   ],
   "source": [
    "df = pd.read_json('data.json')\n",
    "# print(df)\n",
    "# print column names\n",
    "print(df['GenSocTrust'])"
   ]
  },
  {
   "cell_type": "code",
   "execution_count": null,
   "metadata": {},
   "outputs": [],
   "source": [
    "print(country_dict['IT'].keys())"
   ]
  }
 ],
 "metadata": {
  "interpreter": {
   "hash": "63fd5069d213b44bf678585dea6b12cceca9941eaf7f819626cde1f2670de90d"
  },
  "kernelspec": {
   "display_name": "Python 3.9.6 64-bit",
   "language": "python",
   "name": "python3"
  },
  "language_info": {
   "codemirror_mode": {
    "name": "ipython",
    "version": 3
   },
   "file_extension": ".py",
   "mimetype": "text/x-python",
   "name": "python",
   "nbconvert_exporter": "python",
   "pygments_lexer": "ipython3",
   "version": "3.9.6"
  },
  "orig_nbformat": 4
 },
 "nbformat": 4,
 "nbformat_minor": 2
}
